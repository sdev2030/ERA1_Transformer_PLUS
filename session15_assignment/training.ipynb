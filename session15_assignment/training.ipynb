{
 "cells": [
  {
   "cell_type": "code",
   "execution_count": null,
   "metadata": {},
   "outputs": [],
   "source": [
    "from config import get_config\n",
    "cfg = get_config()\n",
    "cfg['batch_size'] = 4\n",
    "cfg['preload'] = None\n",
    "cfg['num_epochs'] = 1\n",
    "\n",
    "from train import train_model\n",
    "\n",
    "train_model(cfg)\n"
   ]
  },
  {
   "cell_type": "code",
   "execution_count": null,
   "metadata": {},
   "outputs": [],
   "source": [
    "# ## code to restart if it fails after 1st epoch\n",
    "# from config import get_config\n",
    "\n",
    "# cfg = get_config()\n",
    "# cfg['batch_size'] = 6\n",
    "# cfg['preload'] = 1\n",
    "# cfg['num_epochs'] = 2\n",
    "\n",
    "# from train import train_model\n",
    "\n",
    "# train_model(cfg)\n"
   ]
  }
 ],
 "metadata": {
  "kernelspec": {
   "display_name": "Python (fastai2022)",
   "language": "python",
   "name": "fastai2022"
  },
  "language_info": {
   "codemirror_mode": {
    "name": "ipython",
    "version": 3
   },
   "file_extension": ".py",
   "mimetype": "text/x-python",
   "name": "python",
   "nbconvert_exporter": "python",
   "pygments_lexer": "ipython3",
   "version": "3.9.13"
  }
 },
 "nbformat": 4,
 "nbformat_minor": 4
}
